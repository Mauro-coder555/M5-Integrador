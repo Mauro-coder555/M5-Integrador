{
 "cells": [
  {
   "cell_type": "markdown",
   "metadata": {},
   "source": [
    "    Analizar las operaciones de un Call Center de un Banco, para proponer mejoras en:\n",
    "    * Eficiencia operativa, proponiendo mejoras operativas.\n",
    "    * Mejorar la satisfacción del cliente, cumpliendo los SLA comprometidos.\n",
    "    * Brindar una herramienta para la gestión y la toma de decisiones a los managers del Call Center.\n",
    "\n",
    "    En conclusión se solicita definir, construir y presentar un Dashboard que permita medir los niveles de calidad de servicio, eficiencia y productividad del Call Center.\n",
    "    Para ello, se propone que definamos los KPIs adecuados para poder medir los objetivos propuestos, y definir nuevos niveles objetivos de manera de ofrecer esos niveles de SLA a terceras partes, o generar un nuevo servicio Premium para los clientes mas importantes del banco.\n",
    "\n",
    "\n",
    "### Preguntas \n",
    "* ¿Cuál es el nivel de servicio para los clientes Prioritarios? \n",
    "* ¿Damos un mejor servicio que a los clientes normales?\n",
    "* ¿Qué volumen de llamadas atendemos? \n",
    "* ¿Cuáles son los cuellos de botella? ¿En qué días? ¿En qué bandas horarias?\n",
    "* ¿Cómo es la eficiencia y productividad de nuestros agentes?\n",
    "* ¿Hay clientes recurrentes en el uso del servicio?\n",
    "* ¿Cuáles son los tipos de servicio más recurrentes?\n",
    "* ¿Podemos estimar la dotación necesaria para cumplir con una calidad de servicio determinada?  Ejemplo: si quiero que mi tiempo promedio de espera sea menor a 60 segundos?\n",
    "\n",
    "### Recursos\n",
    "\n",
    "| Archivo\n",
    "| ------ \n",
    "| Call_Center_1999_DataSet.csv\n",
    "|  “Ejercicio Call Center - Descripción del DataSet” se explica el modelo de datos y la descripción del contenido."
   ]
  },
  {
   "cell_type": "code",
   "execution_count": 2,
   "metadata": {},
   "outputs": [],
   "source": [
    "import numpy as np\n",
    "import pandas as pd\n",
    "from matplotlib import pyplot as plt"
   ]
  },
  {
   "cell_type": "code",
   "execution_count": 3,
   "metadata": {},
   "outputs": [
    {
     "name": "stderr",
     "output_type": "stream",
     "text": [
      "C:\\Users\\delba\\AppData\\Local\\Temp\\ipykernel_5728\\3111253613.py:1: DtypeWarning: Columns (2) have mixed types. Specify dtype option on import or set low_memory=False.\n",
      "  df = pd.read_csv(r\"1 Call Center/Call_Center_1999_DataSet.csv\",sep=\";\")\n"
     ]
    }
   ],
   "source": [
    "df = pd.read_csv(r\"1 Call Center/Call_Center_1999_DataSet.csv\",sep=\";\")"
   ]
  },
  {
   "cell_type": "code",
   "execution_count": 4,
   "metadata": {},
   "outputs": [
    {
     "data": {
      "text/html": [
       "<div>\n",
       "<style scoped>\n",
       "    .dataframe tbody tr th:only-of-type {\n",
       "        vertical-align: middle;\n",
       "    }\n",
       "\n",
       "    .dataframe tbody tr th {\n",
       "        vertical-align: top;\n",
       "    }\n",
       "\n",
       "    .dataframe thead th {\n",
       "        text-align: right;\n",
       "    }\n",
       "</style>\n",
       "<table border=\"1\" class=\"dataframe\">\n",
       "  <thead>\n",
       "    <tr style=\"text-align: right;\">\n",
       "      <th></th>\n",
       "      <th>vru.line</th>\n",
       "      <th>call_id</th>\n",
       "      <th>customer_id</th>\n",
       "      <th>priority</th>\n",
       "      <th>type</th>\n",
       "      <th>date</th>\n",
       "      <th>vru_entry</th>\n",
       "      <th>vru_exit</th>\n",
       "      <th>vru_time</th>\n",
       "      <th>q_start</th>\n",
       "      <th>q_exit</th>\n",
       "      <th>q_time</th>\n",
       "      <th>outcome</th>\n",
       "      <th>ser_start</th>\n",
       "      <th>ser_exit</th>\n",
       "      <th>ser_time</th>\n",
       "      <th>server</th>\n",
       "      <th>startdate</th>\n",
       "    </tr>\n",
       "  </thead>\n",
       "  <tbody>\n",
       "    <tr>\n",
       "      <th>0</th>\n",
       "      <td>AA0101</td>\n",
       "      <td>33116</td>\n",
       "      <td>9664491.0</td>\n",
       "      <td>2</td>\n",
       "      <td>PS</td>\n",
       "      <td>1999-01-01</td>\n",
       "      <td>0:00:31</td>\n",
       "      <td>0:00:36</td>\n",
       "      <td>5</td>\n",
       "      <td>0:00:36</td>\n",
       "      <td>0:03:09</td>\n",
       "      <td>153</td>\n",
       "      <td>HANG</td>\n",
       "      <td>0:00:00</td>\n",
       "      <td>0:00:00</td>\n",
       "      <td>0</td>\n",
       "      <td>NO_SERVER</td>\n",
       "      <td>0</td>\n",
       "    </tr>\n",
       "    <tr>\n",
       "      <th>1</th>\n",
       "      <td>AA0101</td>\n",
       "      <td>33117</td>\n",
       "      <td>0.0</td>\n",
       "      <td>0</td>\n",
       "      <td>PS</td>\n",
       "      <td>1999-01-01</td>\n",
       "      <td>0:34:12</td>\n",
       "      <td>0:34:23</td>\n",
       "      <td>11</td>\n",
       "      <td>0:00:00</td>\n",
       "      <td>0:00:00</td>\n",
       "      <td>0</td>\n",
       "      <td>HANG</td>\n",
       "      <td>0:00:00</td>\n",
       "      <td>0:00:00</td>\n",
       "      <td>0</td>\n",
       "      <td>NO_SERVER</td>\n",
       "      <td>0</td>\n",
       "    </tr>\n",
       "    <tr>\n",
       "      <th>2</th>\n",
       "      <td>AA0101</td>\n",
       "      <td>33118</td>\n",
       "      <td>27997683.0</td>\n",
       "      <td>2</td>\n",
       "      <td>PS</td>\n",
       "      <td>1999-01-01</td>\n",
       "      <td>6:55:20</td>\n",
       "      <td>6:55:26</td>\n",
       "      <td>6</td>\n",
       "      <td>6:55:26</td>\n",
       "      <td>6:55:43</td>\n",
       "      <td>17</td>\n",
       "      <td>AGENT</td>\n",
       "      <td>6:55:43</td>\n",
       "      <td>6:56:37</td>\n",
       "      <td>54</td>\n",
       "      <td>MICHAL</td>\n",
       "      <td>0</td>\n",
       "    </tr>\n",
       "    <tr>\n",
       "      <th>3</th>\n",
       "      <td>AA0101</td>\n",
       "      <td>33119</td>\n",
       "      <td>0.0</td>\n",
       "      <td>0</td>\n",
       "      <td>PS</td>\n",
       "      <td>1999-01-01</td>\n",
       "      <td>7:41:16</td>\n",
       "      <td>7:41:26</td>\n",
       "      <td>10</td>\n",
       "      <td>0:00:00</td>\n",
       "      <td>0:00:00</td>\n",
       "      <td>0</td>\n",
       "      <td>AGENT</td>\n",
       "      <td>7:41:25</td>\n",
       "      <td>7:44:53</td>\n",
       "      <td>208</td>\n",
       "      <td>BASCH</td>\n",
       "      <td>0</td>\n",
       "    </tr>\n",
       "    <tr>\n",
       "      <th>4</th>\n",
       "      <td>AA0101</td>\n",
       "      <td>33120</td>\n",
       "      <td>0.0</td>\n",
       "      <td>0</td>\n",
       "      <td>PS</td>\n",
       "      <td>1999-01-01</td>\n",
       "      <td>8:03:14</td>\n",
       "      <td>8:03:24</td>\n",
       "      <td>10</td>\n",
       "      <td>0:00:00</td>\n",
       "      <td>0:00:00</td>\n",
       "      <td>0</td>\n",
       "      <td>AGENT</td>\n",
       "      <td>8:03:23</td>\n",
       "      <td>8:05:10</td>\n",
       "      <td>107</td>\n",
       "      <td>MICHAL</td>\n",
       "      <td>0</td>\n",
       "    </tr>\n",
       "  </tbody>\n",
       "</table>\n",
       "</div>"
      ],
      "text/plain": [
       "  vru.line  call_id customer_id  priority type        date vru_entry vru_exit  \\\n",
       "0   AA0101    33116   9664491.0         2   PS  1999-01-01   0:00:31  0:00:36   \n",
       "1   AA0101    33117         0.0         0   PS  1999-01-01   0:34:12  0:34:23   \n",
       "2   AA0101    33118  27997683.0         2   PS  1999-01-01   6:55:20  6:55:26   \n",
       "3   AA0101    33119         0.0         0   PS  1999-01-01   7:41:16  7:41:26   \n",
       "4   AA0101    33120         0.0         0   PS  1999-01-01   8:03:14  8:03:24   \n",
       "\n",
       "   vru_time  q_start   q_exit  q_time outcome ser_start ser_exit  ser_time  \\\n",
       "0         5  0:00:36  0:03:09     153    HANG   0:00:00  0:00:00         0   \n",
       "1        11  0:00:00  0:00:00       0    HANG   0:00:00  0:00:00         0   \n",
       "2         6  6:55:26  6:55:43      17   AGENT   6:55:43  6:56:37        54   \n",
       "3        10  0:00:00  0:00:00       0   AGENT   7:41:25  7:44:53       208   \n",
       "4        10  0:00:00  0:00:00       0   AGENT   8:03:23  8:05:10       107   \n",
       "\n",
       "      server  startdate  \n",
       "0  NO_SERVER          0  \n",
       "1  NO_SERVER          0  \n",
       "2     MICHAL          0  \n",
       "3      BASCH          0  \n",
       "4     MICHAL          0  "
      ]
     },
     "execution_count": 4,
     "metadata": {},
     "output_type": "execute_result"
    }
   ],
   "source": [
    "df.head()"
   ]
  },
  {
   "cell_type": "code",
   "execution_count": 5,
   "metadata": {},
   "outputs": [
    {
     "data": {
      "text/plain": [
       "vru.line       444448\n",
       "call_id        444448\n",
       "customer_id    444448\n",
       "priority       444448\n",
       "type           444448\n",
       "date           444448\n",
       "vru_entry      444448\n",
       "vru_exit       444448\n",
       "vru_time       444448\n",
       "q_start        444448\n",
       "q_exit         444448\n",
       "q_time         444448\n",
       "outcome        444448\n",
       "ser_start      444448\n",
       "ser_exit       444448\n",
       "ser_time       444448\n",
       "server         444448\n",
       "startdate      444448\n",
       "dtype: int64"
      ]
     },
     "execution_count": 5,
     "metadata": {},
     "output_type": "execute_result"
    }
   ],
   "source": [
    "df.count()#no tiene valores nulos"
   ]
  },
  {
   "cell_type": "code",
   "execution_count": 6,
   "metadata": {},
   "outputs": [
    {
     "data": {
      "text/html": [
       "<div>\n",
       "<style scoped>\n",
       "    .dataframe tbody tr th:only-of-type {\n",
       "        vertical-align: middle;\n",
       "    }\n",
       "\n",
       "    .dataframe tbody tr th {\n",
       "        vertical-align: top;\n",
       "    }\n",
       "\n",
       "    .dataframe thead th {\n",
       "        text-align: right;\n",
       "    }\n",
       "</style>\n",
       "<table border=\"1\" class=\"dataframe\">\n",
       "  <thead>\n",
       "    <tr style=\"text-align: right;\">\n",
       "      <th></th>\n",
       "      <th>call_id</th>\n",
       "      <th>priority</th>\n",
       "      <th>vru_time</th>\n",
       "      <th>q_time</th>\n",
       "      <th>ser_time</th>\n",
       "      <th>startdate</th>\n",
       "    </tr>\n",
       "  </thead>\n",
       "  <tbody>\n",
       "    <tr>\n",
       "      <th>count</th>\n",
       "      <td>444448.000000</td>\n",
       "      <td>444448.000000</td>\n",
       "      <td>444448.000000</td>\n",
       "      <td>444448.000000</td>\n",
       "      <td>444448.000000</td>\n",
       "      <td>444448.000000</td>\n",
       "    </tr>\n",
       "    <tr>\n",
       "      <th>mean</th>\n",
       "      <td>31928.737202</td>\n",
       "      <td>0.780143</td>\n",
       "      <td>10.286081</td>\n",
       "      <td>59.004304</td>\n",
       "      <td>152.561776</td>\n",
       "      <td>172.333974</td>\n",
       "    </tr>\n",
       "    <tr>\n",
       "      <th>std</th>\n",
       "      <td>13945.516813</td>\n",
       "      <td>0.888851</td>\n",
       "      <td>34.942136</td>\n",
       "      <td>119.470328</td>\n",
       "      <td>282.372761</td>\n",
       "      <td>104.559247</td>\n",
       "    </tr>\n",
       "    <tr>\n",
       "      <th>min</th>\n",
       "      <td>1169.000000</td>\n",
       "      <td>0.000000</td>\n",
       "      <td>-362.000000</td>\n",
       "      <td>0.000000</td>\n",
       "      <td>0.000000</td>\n",
       "      <td>0.000000</td>\n",
       "    </tr>\n",
       "    <tr>\n",
       "      <th>25%</th>\n",
       "      <td>21449.000000</td>\n",
       "      <td>0.000000</td>\n",
       "      <td>6.000000</td>\n",
       "      <td>0.000000</td>\n",
       "      <td>12.000000</td>\n",
       "      <td>90.000000</td>\n",
       "    </tr>\n",
       "    <tr>\n",
       "      <th>50%</th>\n",
       "      <td>35256.000000</td>\n",
       "      <td>0.000000</td>\n",
       "      <td>8.000000</td>\n",
       "      <td>16.000000</td>\n",
       "      <td>84.000000</td>\n",
       "      <td>181.000000</td>\n",
       "    </tr>\n",
       "    <tr>\n",
       "      <th>75%</th>\n",
       "      <td>42803.000000</td>\n",
       "      <td>2.000000</td>\n",
       "      <td>10.000000</td>\n",
       "      <td>79.000000</td>\n",
       "      <td>185.000000</td>\n",
       "      <td>273.000000</td>\n",
       "    </tr>\n",
       "    <tr>\n",
       "      <th>max</th>\n",
       "      <td>55656.000000</td>\n",
       "      <td>2.000000</td>\n",
       "      <td>4832.000000</td>\n",
       "      <td>28693.000000</td>\n",
       "      <td>61437.000000</td>\n",
       "      <td>334.000000</td>\n",
       "    </tr>\n",
       "  </tbody>\n",
       "</table>\n",
       "</div>"
      ],
      "text/plain": [
       "             call_id       priority       vru_time         q_time  \\\n",
       "count  444448.000000  444448.000000  444448.000000  444448.000000   \n",
       "mean    31928.737202       0.780143      10.286081      59.004304   \n",
       "std     13945.516813       0.888851      34.942136     119.470328   \n",
       "min      1169.000000       0.000000    -362.000000       0.000000   \n",
       "25%     21449.000000       0.000000       6.000000       0.000000   \n",
       "50%     35256.000000       0.000000       8.000000      16.000000   \n",
       "75%     42803.000000       2.000000      10.000000      79.000000   \n",
       "max     55656.000000       2.000000    4832.000000   28693.000000   \n",
       "\n",
       "            ser_time      startdate  \n",
       "count  444448.000000  444448.000000  \n",
       "mean      152.561776     172.333974  \n",
       "std       282.372761     104.559247  \n",
       "min         0.000000       0.000000  \n",
       "25%        12.000000      90.000000  \n",
       "50%        84.000000     181.000000  \n",
       "75%       185.000000     273.000000  \n",
       "max     61437.000000     334.000000  "
      ]
     },
     "execution_count": 6,
     "metadata": {},
     "output_type": "execute_result"
    }
   ],
   "source": [
    "df.describe()#vru_time tiene un valores negativos"
   ]
  },
  {
   "cell_type": "code",
   "execution_count": 8,
   "metadata": {},
   "outputs": [
    {
     "data": {
      "text/plain": [
       "call_id\n",
       "37585    16\n",
       "36947    16\n",
       "36959    16\n",
       "36958    16\n",
       "36957    16\n",
       "         ..\n",
       "54438     1\n",
       "54437     1\n",
       "54436     1\n",
       "54435     1\n",
       "55656     1\n",
       "Name: count, Length: 54471, dtype: int64"
      ]
     },
     "execution_count": 8,
     "metadata": {},
     "output_type": "execute_result"
    }
   ],
   "source": [
    "df[\"call_id\"].value_counts()#al parecer hay id de llamada repetidos asi que abri que operarlos"
   ]
  },
  {
   "cell_type": "code",
   "execution_count": 7,
   "metadata": {},
   "outputs": [
    {
     "data": {
      "text/plain": [
       "priority\n",
       "0    235168\n",
       "2    137453\n",
       "1     71827\n",
       "Name: count, dtype: int64"
      ]
     },
     "execution_count": 7,
     "metadata": {},
     "output_type": "execute_result"
    }
   ],
   "source": [
    "df[\"priority\"].value_counts()"
   ]
  },
  {
   "cell_type": "code",
   "execution_count": 11,
   "metadata": {},
   "outputs": [
    {
     "data": {
      "text/plain": [
       "289184    -362\n",
       "163553    -348\n",
       "410564    -341\n",
       "80430     -337\n",
       "93167     -334\n",
       "          ... \n",
       "414985    3090\n",
       "407346    3257\n",
       "285467    3625\n",
       "149023    3639\n",
       "388425    4832\n",
       "Name: vru_time, Length: 444448, dtype: int64"
      ]
     },
     "execution_count": 11,
     "metadata": {},
     "output_type": "execute_result"
    }
   ],
   "source": [
    "df[\"vru_time\"].sort_values() #tiene valores negativos"
   ]
  },
  {
   "cell_type": "code",
   "execution_count": null,
   "metadata": {},
   "outputs": [],
   "source": [
    "df[\"vru.line\"].value_counts().sort_values()"
   ]
  },
  {
   "cell_type": "code",
   "execution_count": 15,
   "metadata": {},
   "outputs": [
    {
     "data": {
      "text/plain": [
       "startdate\n",
       "334    43065\n",
       "212    42078\n",
       "304    41019\n",
       "120    39553\n",
       "181    39022\n",
       "59     38801\n",
       "151    37935\n",
       "273    34625\n",
       "31     33344\n",
       "90     32036\n",
       "0      31599\n",
       "243    31371\n",
       "Name: count, dtype: int64"
      ]
     },
     "execution_count": 15,
     "metadata": {},
     "output_type": "execute_result"
    }
   ],
   "source": [
    "df[\"startdate\"].value_counts()#no se que es"
   ]
  },
  {
   "cell_type": "code",
   "execution_count": 19,
   "metadata": {},
   "outputs": [
    {
     "data": {
      "text/plain": [
       "type\n",
       "PS     302522\n",
       "NW      67728\n",
       "NE      39342\n",
       "IN      20732\n",
       "TT      12289\n",
       "PE       1824\n",
       " TT         6\n",
       "AA          5\n",
       "Name: count, dtype: int64"
      ]
     },
     "execution_count": 19,
     "metadata": {},
     "output_type": "execute_result"
    }
   ],
   "source": [
    "df[\"type\"].value_counts()# TT tiene un espcacio dentro de el nombre"
   ]
  },
  {
   "cell_type": "code",
   "execution_count": 20,
   "metadata": {},
   "outputs": [
    {
     "data": {
      "text/plain": [
       "<bound method Series.sort_values of 0         1999-01-01\n",
       "1         1999-01-01\n",
       "2         1999-01-01\n",
       "3         1999-01-01\n",
       "4         1999-01-01\n",
       "             ...    \n",
       "444443    1999-12-31\n",
       "444444    1999-12-31\n",
       "444445    1999-12-31\n",
       "444446    1999-12-31\n",
       "444447    1999-12-31\n",
       "Name: date, Length: 444448, dtype: object>"
      ]
     },
     "execution_count": 20,
     "metadata": {},
     "output_type": "execute_result"
    }
   ],
   "source": [
    "df[\"date\"].sort_values# las fechas estan correctas ya que estan en el intervalo que se establecia"
   ]
  },
  {
   "cell_type": "code",
   "execution_count": 21,
   "metadata": {},
   "outputs": [
    {
     "data": {
      "text/plain": [
       "q_start\n",
       "0:00:00     112589\n",
       "00:00:00     68248\n",
       "15:22:56        21\n",
       "10:19:32        21\n",
       "10:39:30        21\n",
       "             ...  \n",
       "7:27:14          1\n",
       "6:58:07          1\n",
       "23:37:58         1\n",
       "06:55:20         1\n",
       "0:49:09          1\n",
       "Name: count, Length: 62831, dtype: int64"
      ]
     },
     "execution_count": 21,
     "metadata": {},
     "output_type": "execute_result"
    }
   ],
   "source": [
    "# if(q start > q time):  (q_exit - q_start = q exit)\n",
    "\n",
    "df[\"q_start\"].value_counts()# los valores de date estan en diferente formato"
   ]
  },
  {
   "cell_type": "code",
   "execution_count": 22,
   "metadata": {},
   "outputs": [
    {
     "data": {
      "text/plain": [
       "q_exit\n",
       "0:00:00     112588\n",
       "00:00:00     68248\n",
       "10:08:16        20\n",
       "10:28:23        20\n",
       "10:11:38        19\n",
       "             ...  \n",
       "8:05:10          1\n",
       "22:53:44         1\n",
       "18:24:25         1\n",
       "8:04:21          1\n",
       "0:49:09          1\n",
       "Name: count, Length: 62893, dtype: int64"
      ]
     },
     "execution_count": 22,
     "metadata": {},
     "output_type": "execute_result"
    }
   ],
   "source": [
    "df[\"q_exit\"].value_counts()#el formato de hora es diferente"
   ]
  },
  {
   "cell_type": "code",
   "execution_count": 27,
   "metadata": {},
   "outputs": [
    {
     "data": {
      "text/plain": [
       "q_time\n",
       "0        181223\n",
       "9          4138\n",
       "10         3728\n",
       "8          3519\n",
       "12         3387\n",
       "          ...  \n",
       "967           1\n",
       "970           1\n",
       "974           1\n",
       "975           1\n",
       "28693         1\n",
       "Name: count, Length: 1043, dtype: int64"
      ]
     },
     "execution_count": 27,
     "metadata": {},
     "output_type": "execute_result"
    }
   ],
   "source": [
    "df[\"q_time\"].sort_values().value_counts()# hay un valor que es 3 veces mas grande que los anteriores a ese en tamaño"
   ]
  }
 ],
 "metadata": {
  "kernelspec": {
   "display_name": "Python 3",
   "language": "python",
   "name": "python3"
  },
  "language_info": {
   "codemirror_mode": {
    "name": "ipython",
    "version": 3
   },
   "file_extension": ".py",
   "mimetype": "text/x-python",
   "name": "python",
   "nbconvert_exporter": "python",
   "pygments_lexer": "ipython3",
   "version": "3.11.5"
  }
 },
 "nbformat": 4,
 "nbformat_minor": 2
}
